{
  "nbformat": 4,
  "nbformat_minor": 0,
  "metadata": {
    "colab": {
      "provenance": [],
      "gpuType": "T4"
    },
    "kernelspec": {
      "name": "python3",
      "display_name": "Python 3"
    },
    "language_info": {
      "name": "python"
    },
    "accelerator": "GPU"
  },
  "cells": [
    {
      "cell_type": "code",
      "execution_count": 1,
      "metadata": {
        "id": "tQ-7P5kwvYS1"
      },
      "outputs": [],
      "source": [
        "from tensorflow.keras.datasets import cifar10\n",
        "from tensorflow.keras.preprocessing.image import ImageDataGenerator\n",
        "from tensorflow.keras.models import Sequential\n",
        "from tensorflow.keras.layers import Dense, Dropout, Activation, Flatten, BatchNormalization\n",
        "from tensorflow.keras.layers import Conv2D, MaxPooling2D\n",
        "import tensorflow as tf\n",
        "import matplotlib.pyplot as plt\n",
        "import numpy as np\n",
        "import os\n",
        "import pandas as pd"
      ]
    },
    {
      "cell_type": "code",
      "source": [
        "from tensorflow.keras.applications import VGG19\n",
        "from tensorflow.keras.models import Sequential\n",
        "from tensorflow.keras.layers import Dense, Dropout, Flatten\n",
        "from tensorflow.keras.preprocessing.image import ImageDataGenerator\n",
        "from tensorflow.keras import utils"
      ],
      "metadata": {
        "id": "A9I_irl75nR2"
      },
      "execution_count": 2,
      "outputs": []
    },
    {
      "cell_type": "code",
      "source": [
        "# Количество классов изображений\n",
        "nb_classes = 10\n",
        "# Названия классов из набора данных CIFAR-10\n",
        "classes=['самолет', 'автомобиль', 'птица', 'кот', 'олень', 'собака', 'лягушка', 'лошадь', 'корабль', 'грузовик']\n",
        "# разделение тренировочной и тестовой выборки\n",
        "(x_train, y_train), (x_test, y_test) = cifar10.load_data()\n",
        "y_train10 = utils.to_categorical(y_train, nb_classes)\n",
        "y_test10 = utils.to_categorical(y_test, nb_classes)\n",
        "print('x_train shape:', x_train.shape)\n",
        "print(x_train.shape[0], 'тренировочные примеры')\n",
        "print(x_test.shape[0], 'тестовые примеры')"
      ],
      "metadata": {
        "colab": {
          "base_uri": "https://localhost:8080/"
        },
        "id": "pF_L7JVd1tCU",
        "outputId": "917007e0-84a1-465a-ed0b-775d63c3c3db"
      },
      "execution_count": 3,
      "outputs": [
        {
          "output_type": "stream",
          "name": "stdout",
          "text": [
            "Downloading data from https://www.cs.toronto.edu/~kriz/cifar-10-python.tar.gz\n",
            "170498071/170498071 [==============================] - 13s 0us/step\n",
            "x_train shape: (50000, 32, 32, 3)\n",
            "50000 тренировочные примеры\n",
            "10000 тестовые примеры\n"
          ]
        }
      ]
    },
    {
      "cell_type": "code",
      "source": [
        "#Загрузка предварительно обученной модели\n",
        "vgg19 = VGG19(include_top=False, weights ='imagenet', input_shape=(32, 32, 3), pooling=None)"
      ],
      "metadata": {
        "id": "jlPSsyhW5_7S"
      },
      "execution_count": 31,
      "outputs": []
    },
    {
      "cell_type": "code",
      "source": [
        "#Фиксация всех слоев в базовой модели\n",
        "for layer in vgg19.layers:\n",
        "  layer.trainable = False"
      ],
      "metadata": {
        "id": "aE2V59bu6gYn"
      },
      "execution_count": 32,
      "outputs": []
    },
    {
      "cell_type": "code",
      "source": [
        "#Создание последовательной модели и добавление в неё VGG19\n",
        "base_model = Sequential()\n",
        "base_model.add(vgg19)"
      ],
      "metadata": {
        "id": "ehNSvG2I6_Yo"
      },
      "execution_count": 33,
      "outputs": []
    },
    {
      "cell_type": "code",
      "source": [
        "#Компиляция модели к последующему обучению\n",
        "base_model.compile(loss='categorical_crossentropy',\n",
        "              optimizer='SGD',\n",
        "              metrics=['accuracy'])"
      ],
      "metadata": {
        "id": "BJbDtpzV8EcV"
      },
      "execution_count": 34,
      "outputs": []
    },
    {
      "cell_type": "code",
      "source": [
        "base_model.summary()"
      ],
      "metadata": {
        "colab": {
          "base_uri": "https://localhost:8080/"
        },
        "id": "sS-LGJYVEW3v",
        "outputId": "6b720f62-3516-47fa-8f38-678b7f4cbc32"
      },
      "execution_count": 35,
      "outputs": [
        {
          "output_type": "stream",
          "name": "stdout",
          "text": [
            "Model: \"sequential_3\"\n",
            "_________________________________________________________________\n",
            " Layer (type)                Output Shape              Param #   \n",
            "=================================================================\n",
            " vgg19 (Functional)          (None, 1, 1, 512)         20024384  \n",
            "                                                                 \n",
            "=================================================================\n",
            "Total params: 20024384 (76.39 MB)\n",
            "Trainable params: 0 (0.00 Byte)\n",
            "Non-trainable params: 20024384 (76.39 MB)\n",
            "_________________________________________________________________\n"
          ]
        }
      ]
    },
    {
      "cell_type": "code",
      "source": [
        "base_model.add(BatchNormalization())\n",
        "base_model.add(Flatten()) # векторим вход\n",
        "base_model.add(Dense(256,activation='relu'))\n",
        "base_model.add(Dense(10,activation='softmax'))\n",
        "base_model.summary()\n",
        "print(base_model.layers[-1].input_shape)\n",
        "print(base_model.layers[-1].output_shape)"
      ],
      "metadata": {
        "colab": {
          "base_uri": "https://localhost:8080/"
        },
        "id": "xR_s915vEv6W",
        "outputId": "38b161e6-41c8-48d8-9af7-7955cdeeb1d6"
      },
      "execution_count": 36,
      "outputs": [
        {
          "output_type": "stream",
          "name": "stdout",
          "text": [
            "Model: \"sequential_3\"\n",
            "_________________________________________________________________\n",
            " Layer (type)                Output Shape              Param #   \n",
            "=================================================================\n",
            " vgg19 (Functional)          (None, 1, 1, 512)         20024384  \n",
            "                                                                 \n",
            " batch_normalization_3 (Bat  (None, 1, 1, 512)         2048      \n",
            " chNormalization)                                                \n",
            "                                                                 \n",
            " flatten_3 (Flatten)         (None, 512)               0         \n",
            "                                                                 \n",
            " dense_6 (Dense)             (None, 256)               131328    \n",
            "                                                                 \n",
            " dense_7 (Dense)             (None, 10)                2570      \n",
            "                                                                 \n",
            "=================================================================\n",
            "Total params: 20160330 (76.91 MB)\n",
            "Trainable params: 134922 (527.04 KB)\n",
            "Non-trainable params: 20025408 (76.39 MB)\n",
            "_________________________________________________________________\n",
            "(None, 256)\n",
            "(None, 10)\n"
          ]
        }
      ]
    },
    {
      "cell_type": "code",
      "source": [
        "epochs = 20\n",
        "df_results_2 = pd.DataFrame(columns=['accuracy', 'val_accuracy'])"
      ],
      "metadata": {
        "id": "EjzxzqUlG2EM"
      },
      "execution_count": 29,
      "outputs": []
    },
    {
      "cell_type": "code",
      "source": [
        "history = base_model.fit(x_train, y_train10,\n",
        "              #batch_size=batch_size,\n",
        "              epochs=10,\n",
        "              validation_data=(x_test, y_test10),\n",
        "              shuffle=True)"
      ],
      "metadata": {
        "colab": {
          "base_uri": "https://localhost:8080/"
        },
        "id": "3XmHlnLtr767",
        "outputId": "2c9588ce-b879-4ea5-a125-bcbf82e0c583"
      },
      "execution_count": 37,
      "outputs": [
        {
          "output_type": "stream",
          "name": "stdout",
          "text": [
            "Epoch 1/10\n",
            "1563/1563 [==============================] - 22s 13ms/step - loss: 1.4974 - accuracy: 0.4795 - val_loss: 1.3174 - val_accuracy: 0.5488\n",
            "Epoch 2/10\n",
            "1563/1563 [==============================] - 22s 14ms/step - loss: 1.2636 - accuracy: 0.5622 - val_loss: 1.2422 - val_accuracy: 0.5785\n",
            "Epoch 3/10\n",
            "1563/1563 [==============================] - 22s 14ms/step - loss: 1.1950 - accuracy: 0.5838 - val_loss: 1.2088 - val_accuracy: 0.5914\n",
            "Epoch 4/10\n",
            "1563/1563 [==============================] - 20s 13ms/step - loss: 1.1570 - accuracy: 0.5959 - val_loss: 1.1865 - val_accuracy: 0.5937\n",
            "Epoch 5/10\n",
            "1563/1563 [==============================] - 22s 14ms/step - loss: 1.1253 - accuracy: 0.6078 - val_loss: 1.1649 - val_accuracy: 0.6049\n",
            "Epoch 6/10\n",
            "1563/1563 [==============================] - 20s 13ms/step - loss: 1.0959 - accuracy: 0.6190 - val_loss: 1.1554 - val_accuracy: 0.6070\n",
            "Epoch 7/10\n",
            "1563/1563 [==============================] - 20s 13ms/step - loss: 1.0774 - accuracy: 0.6243 - val_loss: 1.1494 - val_accuracy: 0.6058\n",
            "Epoch 8/10\n",
            "1563/1563 [==============================] - 22s 14ms/step - loss: 1.0515 - accuracy: 0.6318 - val_loss: 1.1480 - val_accuracy: 0.6085\n",
            "Epoch 9/10\n",
            "1563/1563 [==============================] - 21s 13ms/step - loss: 1.0378 - accuracy: 0.6384 - val_loss: 1.1367 - val_accuracy: 0.6129\n",
            "Epoch 10/10\n",
            "1563/1563 [==============================] - 22s 14ms/step - loss: 1.0167 - accuracy: 0.6436 - val_loss: 1.1373 - val_accuracy: 0.6161\n"
          ]
        }
      ]
    },
    {
      "cell_type": "code",
      "source": [
        "df_results_2.loc['Чистый классификатор'] = [history.history['accuracy'], history.history['val_accuracy']]"
      ],
      "metadata": {
        "id": "NhBhzLF-n5rK"
      },
      "execution_count": 12,
      "outputs": []
    },
    {
      "cell_type": "code",
      "source": [
        "plt.plot(history.history['val_accuracy'],'r',label='val_accuracy')\n",
        "plt.plot(history.history['accuracy'],'g',label='train_accuracy')\n",
        "plt.legend()\n",
        "plt.show()"
      ],
      "metadata": {
        "colab": {
          "base_uri": "https://localhost:8080/",
          "height": 430
        },
        "id": "5Z8JxMaO3fk7",
        "outputId": "be7d202e-d2cb-4f29-b69d-0d50448b1385"
      },
      "execution_count": 13,
      "outputs": [
        {
          "output_type": "display_data",
          "data": {
            "text/plain": [
              "<Figure size 640x480 with 1 Axes>"
            ],
            "image/png": "[encoded data removed]"
          },
          "metadata": {}
        }
      ]
    },
    {
      "cell_type": "markdown",
      "source": [
        "Сравнение результатов конфигураций"
      ],
      "metadata": {
        "id": "9PZUPG6NgfeQ"
      }
    },
    {
      "cell_type": "markdown",
      "source": [
        "Классификатор + итеративная разморозка + адаптивный lr"
      ],
      "metadata": {
        "id": "WUpMRm-rfsVn"
      }
    },
    {
      "cell_type": "code",
      "source": [
        "names_layers = ['block1_conv2', 'block2_conv2', 'block3_conv2', 'block4_conv2', 'block5_conv2']\n",
        "lr_list = [0.0001, 0.001, 0.01, 0.1]"
      ],
      "metadata": {
        "id": "ZKnIz84V4A21"
      },
      "execution_count": 14,
      "outputs": []
    },
    {
      "cell_type": "code",
      "source": [
        "#Разморозка слоев в базовой модели\n",
        "for layer in vgg19.layers:\n",
        "  if layer.name == names_layers:\n",
        "    layer.trainable = True"
      ],
      "metadata": {
        "id": "VDEbNgD84Ev5"
      },
      "execution_count": 15,
      "outputs": []
    },
    {
      "cell_type": "code",
      "source": [
        "def unfreeze_layers(model, layers):\n",
        "  for layer in vgg19.layers:\n",
        "    if layer.name == names_layers:\n",
        "      layer.trainable = True"
      ],
      "metadata": {
        "id": "bu2Z9orm5V2T"
      },
      "execution_count": 16,
      "outputs": []
    },
    {
      "cell_type": "code",
      "source": [
        "unfreeze_layers(base_model, [3, 6, 9, 14, 19])\n",
        "optimizer = tf.keras.optimizers.legacy.SGD(learning_rate = lr_list[1])\n",
        "base_model.summary()"
      ],
      "metadata": {
        "colab": {
          "base_uri": "https://localhost:8080/"
        },
        "id": "Ym9Ly8cTf2kQ",
        "outputId": "8350b9c3-fc42-4a9f-f060-2fd043862c45"
      },
      "execution_count": 17,
      "outputs": [
        {
          "output_type": "stream",
          "name": "stdout",
          "text": [
            "Model: \"sequential\"\n",
            "_________________________________________________________________\n",
            " Layer (type)                Output Shape              Param #   \n",
            "=================================================================\n",
            " vgg19 (Functional)          (None, 1, 1, 512)         20024384  \n",
            "                                                                 \n",
            " batch_normalization (Batch  (None, 1, 1, 512)         2048      \n",
            " Normalization)                                                  \n",
            "                                                                 \n",
            " flatten (Flatten)           (None, 512)               0         \n",
            "                                                                 \n",
            " dense (Dense)               (None, 256)               131328    \n",
            "                                                                 \n",
            " dense_1 (Dense)             (None, 10)                2570      \n",
            "                                                                 \n",
            "=================================================================\n",
            "Total params: 20160330 (76.91 MB)\n",
            "Trainable params: 134922 (527.04 KB)\n",
            "Non-trainable params: 20025408 (76.39 MB)\n",
            "_________________________________________________________________\n"
          ]
        }
      ]
    },
    {
      "cell_type": "code",
      "source": [
        "base_model.compile(optimizer=optimizer,\n",
        "              loss='categorical_crossentropy',\n",
        "              metrics=['accuracy'])\n",
        "history = base_model.fit(x_train, y_train10,\n",
        "              epochs=20,\n",
        "              validation_data=(x_test, y_test10),\n",
        "              shuffle=True)\n",
        "df_results_2.loc['Классификатор + итеративная разморозка + адаптивный lr'] = [history.history['accuracy'], history.history['val_accuracy']]"
      ],
      "metadata": {
        "colab": {
          "base_uri": "https://localhost:8080/"
        },
        "id": "3P6kpRWGro3A",
        "outputId": "fff37a55-fc79-4e26-b59e-c32caa96f2b4"
      },
      "execution_count": 18,
      "outputs": [
        {
          "output_type": "stream",
          "name": "stdout",
          "text": [
            "Epoch 1/20\n",
            "1563/1563 [==============================] - 23s 14ms/step - loss: 0.8190 - accuracy: 0.7158 - val_loss: 1.1312 - val_accuracy: 0.6259\n",
            "Epoch 2/20\n",
            "1563/1563 [==============================] - 20s 13ms/step - loss: 0.8107 - accuracy: 0.7195 - val_loss: 1.1349 - val_accuracy: 0.6238\n",
            "Epoch 3/20\n",
            "1563/1563 [==============================] - 22s 14ms/step - loss: 0.8106 - accuracy: 0.7190 - val_loss: 1.1270 - val_accuracy: 0.6260\n",
            "Epoch 4/20\n",
            "1563/1563 [==============================] - 22s 14ms/step - loss: 0.8102 - accuracy: 0.7198 - val_loss: 1.1277 - val_accuracy: 0.6252\n",
            "Epoch 5/20\n",
            "1563/1563 [==============================] - 20s 13ms/step - loss: 0.8075 - accuracy: 0.7201 - val_loss: 1.1359 - val_accuracy: 0.6259\n",
            "Epoch 6/20\n",
            "1563/1563 [==============================] - 20s 13ms/step - loss: 0.8055 - accuracy: 0.7224 - val_loss: 1.1289 - val_accuracy: 0.6275\n",
            "Epoch 7/20\n",
            "1563/1563 [==============================] - 22s 14ms/step - loss: 0.8018 - accuracy: 0.7231 - val_loss: 1.1285 - val_accuracy: 0.6266\n",
            "Epoch 8/20\n",
            "1563/1563 [==============================] - 20s 13ms/step - loss: 0.8006 - accuracy: 0.7226 - val_loss: 1.1401 - val_accuracy: 0.6256\n",
            "Epoch 9/20\n",
            "1563/1563 [==============================] - 20s 13ms/step - loss: 0.8006 - accuracy: 0.7221 - val_loss: 1.1312 - val_accuracy: 0.6255\n",
            "Epoch 10/20\n",
            "1563/1563 [==============================] - 20s 13ms/step - loss: 0.7985 - accuracy: 0.7231 - val_loss: 1.1376 - val_accuracy: 0.6257\n",
            "Epoch 11/20\n",
            "1563/1563 [==============================] - 22s 14ms/step - loss: 0.7928 - accuracy: 0.7262 - val_loss: 1.1401 - val_accuracy: 0.6239\n",
            "Epoch 12/20\n",
            "1563/1563 [==============================] - 20s 13ms/step - loss: 0.7982 - accuracy: 0.7245 - val_loss: 1.1321 - val_accuracy: 0.6268\n",
            "Epoch 13/20\n",
            "1563/1563 [==============================] - 20s 13ms/step - loss: 0.7956 - accuracy: 0.7232 - val_loss: 1.1389 - val_accuracy: 0.6251\n",
            "Epoch 14/20\n",
            "1563/1563 [==============================] - 22s 14ms/step - loss: 0.7930 - accuracy: 0.7267 - val_loss: 1.1360 - val_accuracy: 0.6266\n",
            "Epoch 15/20\n",
            "1563/1563 [==============================] - 20s 13ms/step - loss: 0.7893 - accuracy: 0.7251 - val_loss: 1.1367 - val_accuracy: 0.6266\n",
            "Epoch 16/20\n",
            "1563/1563 [==============================] - 22s 14ms/step - loss: 0.7865 - accuracy: 0.7280 - val_loss: 1.1309 - val_accuracy: 0.6259\n",
            "Epoch 17/20\n",
            "1563/1563 [==============================] - 22s 14ms/step - loss: 0.7857 - accuracy: 0.7284 - val_loss: 1.1317 - val_accuracy: 0.6269\n",
            "Epoch 18/20\n",
            "1563/1563 [==============================] - 22s 14ms/step - loss: 0.7820 - accuracy: 0.7297 - val_loss: 1.1381 - val_accuracy: 0.6248\n",
            "Epoch 19/20\n",
            "1563/1563 [==============================] - 20s 13ms/step - loss: 0.7818 - accuracy: 0.7317 - val_loss: 1.1314 - val_accuracy: 0.6261\n",
            "Epoch 20/20\n",
            "1563/1563 [==============================] - 20s 12ms/step - loss: 0.7785 - accuracy: 0.7308 - val_loss: 1.1355 - val_accuracy: 0.6263\n"
          ]
        }
      ]
    },
    {
      "cell_type": "code",
      "source": [
        "plt.plot(history.history['val_accuracy'],'r',label='val_accuracy')\n",
        "plt.plot(history.history['accuracy'],'g',label='train_accuracy')\n",
        "plt.legend()\n",
        "plt.show()"
      ],
      "metadata": {
        "colab": {
          "base_uri": "https://localhost:8080/",
          "height": 430
        },
        "id": "vh2EK6m26viF",
        "outputId": "7912e3c5-3d01-4e18-b2f1-c5e3888b3b0e"
      },
      "execution_count": 19,
      "outputs": [
        {
          "output_type": "display_data",
          "data": {
            "text/plain": [
              "<Figure size 640x480 with 1 Axes>"
            ],
            "image/png": "[encoded data removed]"
          },
          "metadata": {}
        }
      ]
    },
    {
      "cell_type": "markdown",
      "source": [
        "Классификатор + итеративная аугментация"
      ],
      "metadata": {
        "id": "c9ryo3qnfvha"
      }
    },
    {
      "cell_type": "code",
      "source": [
        "base_model = Sequential()\n",
        "base_model.add(vgg19)\n",
        "#Компиляция модели к последующему обучению\n",
        "base_model.compile(loss='categorical_crossentropy',\n",
        "              optimizer='SGD',\n",
        "              metrics=['accuracy'])\n",
        "base_model.add(BatchNormalization())\n",
        "base_model.add(Flatten()) # векторим вход\n",
        "base_model.add(Dense(256,activation='relu'))\n",
        "base_model.add(Dense(10,activation='softmax'))"
      ],
      "metadata": {
        "id": "SYpr0Nwls7VZ"
      },
      "execution_count": 20,
      "outputs": []
    },
    {
      "cell_type": "code",
      "source": [
        "datagen = ImageDataGenerator(\n",
        "        featurewise_center=False,\n",
        "        samplewise_center=False,\n",
        "        featurewise_std_normalization=False,\n",
        "        samplewise_std_normalization=False,\n",
        "        zca_whitening=False,\n",
        "        zca_epsilon=1e-06,\n",
        "        rotation_range=5,\n",
        "        width_shift_range=0.1,\n",
        "        height_shift_range=0.1,\n",
        "        shear_range=0.,\n",
        "        zoom_range=0.,\n",
        "        channel_shift_range=0.,\n",
        "        fill_mode='nearest',\n",
        "        cval=0.,\n",
        "        horizontal_flip=True,\n",
        "        vertical_flip=False,\n",
        "        rescale=None,\n",
        "        preprocessing_function=None,\n",
        "        data_format=None,\n",
        "        validation_split=0.0)\n",
        "# запуск data augmentation через fit_generator\n",
        "history = base_model.fit(datagen.flow(x_train, y_train10),\n",
        "                        epochs=epochs,\n",
        "                        validation_data=(x_test, y_test10),\n",
        "                        workers=4)\n",
        "df_results_2.loc['Классификатор + аугментация'] = [history.history['accuracy'], history.history['val_accuracy']]"
      ],
      "metadata": {
        "colab": {
          "base_uri": "https://localhost:8080/"
        },
        "id": "gCew_wZqf3DA",
        "outputId": "ef3199ef-f73e-409f-a265-87ba0793435f"
      },
      "execution_count": 21,
      "outputs": [
        {
          "output_type": "stream",
          "name": "stdout",
          "text": [
            "Epoch 1/20\n",
            "1563/1563 [==============================] - 53s 33ms/step - loss: 1.5835 - accuracy: 0.4476 - val_loss: 1.3364 - val_accuracy: 0.5470\n",
            "Epoch 2/20\n",
            "1563/1563 [==============================] - 51s 33ms/step - loss: 1.3401 - accuracy: 0.5313 - val_loss: 1.2653 - val_accuracy: 0.5723\n",
            "Epoch 3/20\n",
            "1563/1563 [==============================] - 51s 33ms/step - loss: 1.2924 - accuracy: 0.5467 - val_loss: 1.2351 - val_accuracy: 0.5811\n",
            "Epoch 4/20\n",
            "1563/1563 [==============================] - 50s 32ms/step - loss: 1.2574 - accuracy: 0.5583 - val_loss: 1.2049 - val_accuracy: 0.5869\n",
            "Epoch 5/20\n",
            "1563/1563 [==============================] - 52s 33ms/step - loss: 1.2326 - accuracy: 0.5642 - val_loss: 1.1904 - val_accuracy: 0.5939\n",
            "Epoch 6/20\n",
            "1563/1563 [==============================] - 50s 32ms/step - loss: 1.2129 - accuracy: 0.5748 - val_loss: 1.1833 - val_accuracy: 0.5973\n",
            "Epoch 7/20\n",
            "1563/1563 [==============================] - 48s 31ms/step - loss: 1.1993 - accuracy: 0.5800 - val_loss: 1.1702 - val_accuracy: 0.6043\n",
            "Epoch 8/20\n",
            "1563/1563 [==============================] - 51s 33ms/step - loss: 1.1916 - accuracy: 0.5814 - val_loss: 1.1541 - val_accuracy: 0.6084\n",
            "Epoch 9/20\n",
            "1563/1563 [==============================] - 50s 32ms/step - loss: 1.1730 - accuracy: 0.5903 - val_loss: 1.1414 - val_accuracy: 0.6089\n",
            "Epoch 10/20\n",
            "1563/1563 [==============================] - 48s 31ms/step - loss: 1.1632 - accuracy: 0.5899 - val_loss: 1.1487 - val_accuracy: 0.6080\n",
            "Epoch 11/20\n",
            "1563/1563 [==============================] - 49s 31ms/step - loss: 1.1568 - accuracy: 0.5947 - val_loss: 1.1326 - val_accuracy: 0.6139\n",
            "Epoch 12/20\n",
            "1563/1563 [==============================] - 50s 32ms/step - loss: 1.1473 - accuracy: 0.5973 - val_loss: 1.1351 - val_accuracy: 0.6129\n",
            "Epoch 13/20\n",
            "1563/1563 [==============================] - 49s 31ms/step - loss: 1.1337 - accuracy: 0.6018 - val_loss: 1.1353 - val_accuracy: 0.6156\n",
            "Epoch 14/20\n",
            "1563/1563 [==============================] - 48s 31ms/step - loss: 1.1284 - accuracy: 0.6036 - val_loss: 1.1113 - val_accuracy: 0.6214\n",
            "Epoch 15/20\n",
            "1563/1563 [==============================] - 51s 32ms/step - loss: 1.1173 - accuracy: 0.6076 - val_loss: 1.1200 - val_accuracy: 0.6181\n",
            "Epoch 16/20\n",
            "1563/1563 [==============================] - 51s 33ms/step - loss: 1.1132 - accuracy: 0.6083 - val_loss: 1.1218 - val_accuracy: 0.6187\n",
            "Epoch 17/20\n",
            "1563/1563 [==============================] - 49s 31ms/step - loss: 1.1083 - accuracy: 0.6098 - val_loss: 1.1199 - val_accuracy: 0.6251\n",
            "Epoch 18/20\n",
            "1563/1563 [==============================] - 50s 32ms/step - loss: 1.1002 - accuracy: 0.6139 - val_loss: 1.1076 - val_accuracy: 0.6254\n",
            "Epoch 19/20\n",
            "1563/1563 [==============================] - 51s 33ms/step - loss: 1.0914 - accuracy: 0.6141 - val_loss: 1.1016 - val_accuracy: 0.6273\n",
            "Epoch 20/20\n",
            "1563/1563 [==============================] - 49s 31ms/step - loss: 1.0889 - accuracy: 0.6163 - val_loss: 1.1091 - val_accuracy: 0.6270\n"
          ]
        }
      ]
    },
    {
      "cell_type": "code",
      "source": [
        "plt.plot(history.history['val_accuracy'],'r',label='val_accuracy')\n",
        "plt.plot(history.history['accuracy'],'g',label='train_accuracy')\n",
        "plt.legend()\n",
        "plt.show()"
      ],
      "metadata": {
        "colab": {
          "base_uri": "https://localhost:8080/",
          "height": 430
        },
        "id": "JC5yc2DO61NM",
        "outputId": "0d47e971-0100-4368-8fa1-98d02c032aee"
      },
      "execution_count": 22,
      "outputs": [
        {
          "output_type": "display_data",
          "data": {
            "text/plain": [
              "<Figure size 640x480 with 1 Axes>"
            ],
            "image/png": "[encoded data removed]"
          },
          "metadata": {}
        }
      ]
    },
    {
      "cell_type": "markdown",
      "source": [
        "Классификатор + все методы улучшения"
      ],
      "metadata": {
        "id": "p1dYNyXIfyP_"
      }
    },
    {
      "cell_type": "code",
      "source": [
        "unfreeze_layers(base_model, [3, 6, 9, 14, 19])\n",
        "optimizer = tf.keras.optimizers.legacy.SGD(learning_rate = lr_list[0])\n",
        "base_model.compile(optimizer=optimizer,\n",
        "              loss='binary_crossentropy',\n",
        "              metrics=['accuracy'])\n",
        "history = base_model.fit(x_train, y_train10,\n",
        "              epochs=10,\n",
        "              validation_data=(x_test, y_test10),\n",
        "              shuffle=True)\n",
        "df_results_2.loc['Классификатор + все методы'] = [history.history['accuracy'], history.history['val_accuracy']]"
      ],
      "metadata": {
        "colab": {
          "base_uri": "https://localhost:8080/"
        },
        "id": "NH2NOCFFf3hQ",
        "outputId": "4084d169-81e9-4cf3-e189-d6bcd29b5087"
      },
      "execution_count": 38,
      "outputs": [
        {
          "output_type": "stream",
          "name": "stdout",
          "text": [
            "Epoch 1/10\n",
            "1563/1563 [==============================] - 23s 14ms/step - loss: 0.8048 - accuracy: 0.6568 - val_loss: 0.7478 - val_accuracy: 0.6157\n",
            "Epoch 2/10\n",
            "1563/1563 [==============================] - 20s 13ms/step - loss: 0.6659 - accuracy: 0.6555 - val_loss: 0.6244 - val_accuracy: 0.6144\n",
            "Epoch 3/10\n",
            "1563/1563 [==============================] - 20s 13ms/step - loss: 0.5599 - accuracy: 0.6547 - val_loss: 0.5314 - val_accuracy: 0.6125\n",
            "Epoch 4/10\n",
            "1563/1563 [==============================] - 19s 12ms/step - loss: 0.4808 - accuracy: 0.6547 - val_loss: 0.4626 - val_accuracy: 0.6102\n",
            "Epoch 5/10\n",
            "1563/1563 [==============================] - 20s 13ms/step - loss: 0.4196 - accuracy: 0.6553 - val_loss: 0.4086 - val_accuracy: 0.6105\n",
            "Epoch 6/10\n",
            "1563/1563 [==============================] - 19s 12ms/step - loss: 0.3728 - accuracy: 0.6534 - val_loss: 0.3667 - val_accuracy: 0.6076\n",
            "Epoch 7/10\n",
            "1563/1563 [==============================] - 22s 14ms/step - loss: 0.3372 - accuracy: 0.6538 - val_loss: 0.3359 - val_accuracy: 0.6044\n",
            "Epoch 8/10\n",
            "1563/1563 [==============================] - 20s 13ms/step - loss: 0.3090 - accuracy: 0.6514 - val_loss: 0.3122 - val_accuracy: 0.6070\n",
            "Epoch 9/10\n",
            "1563/1563 [==============================] - 22s 14ms/step - loss: 0.2869 - accuracy: 0.6512 - val_loss: 0.2922 - val_accuracy: 0.6048\n",
            "Epoch 10/10\n",
            "1563/1563 [==============================] - 20s 13ms/step - loss: 0.2690 - accuracy: 0.6522 - val_loss: 0.2760 - val_accuracy: 0.6068\n"
          ]
        }
      ]
    },
    {
      "cell_type": "code",
      "source": [
        "plt.plot(history.history['val_accuracy'],'r',label='val_accuracy')\n",
        "plt.plot(history.history['accuracy'],'g',label='train_accuracy')\n",
        "plt.legend()\n",
        "plt.show()"
      ],
      "metadata": {
        "colab": {
          "base_uri": "https://localhost:8080/",
          "height": 430
        },
        "id": "kcyGML2v3d8J",
        "outputId": "8f1927ca-319a-45d8-af6d-3af60dd5de26"
      },
      "execution_count": 39,
      "outputs": [
        {
          "output_type": "display_data",
          "data": {
            "text/plain": [
              "<Figure size 640x480 with 1 Axes>"
            ],
            "image/png": "[encoded data removed]"
          },
          "metadata": {}
        }
      ]
    },
    {
      "cell_type": "code",
      "source": [
        "df_results_2"
      ],
      "metadata": {
        "colab": {
          "base_uri": "https://localhost:8080/",
          "height": 143
        },
        "id": "k47sllVnk5N4",
        "outputId": "a77bc78e-e2b3-41e4-80aa-3659dbf0c61c"
      },
      "execution_count": 28,
      "outputs": [
        {
          "output_type": "execute_result",
          "data": {
            "text/plain": [
              "                                                                                             accuracy  \\\n",
              "Чистый классификатор                                [0.47655999660491943, 0.5612599849700928, 0.58...   \n",
              "Классификатор + итеративная разморозка + адапти...  [0.7158200144767761, 0.7195000052452087, 0.718...   \n",
              "Классификатор + аугментация                         [0.4475800096988678, 0.5313000082969666, 0.546...   \n",
              "\n",
              "                                                                                         val_accuracy  \n",
              "Чистый классификатор                                [0.5540000200271606, 0.5809999704360962, 0.593...  \n",
              "Классификатор + итеративная разморозка + адапти...  [0.6258999705314636, 0.6237999796867371, 0.625...  \n",
              "Классификатор + аугментация                         [0.546999990940094, 0.5723000168800354, 0.5810...  "
            ],
            "text/html": [
              "\n",
              "  <div id=\"df-2d04c17b-7bf5-4fd0-9adc-6c8b1f3d2647\" class=\"colab-df-container\">\n",
              "    <div>\n",
              "<style scoped>\n",
              "    .dataframe tbody tr th:only-of-type {\n",
              "        vertical-align: middle;\n",
              "    }\n",
              "\n",
              "    .dataframe tbody tr th {\n",
              "        vertical-align: top;\n",
              "    }\n",
              "\n",
              "    .dataframe thead th {\n",
              "        text-align: right;\n",
              "    }\n",
              "</style>\n",
              "<table border=\"1\" class=\"dataframe\">\n",
              "  <thead>\n",
              "    <tr style=\"text-align: right;\">\n",
              "      <th></th>\n",
              "      <th>accuracy</th>\n",
              "      <th>val_accuracy</th>\n",
              "    </tr>\n",
              "  </thead>\n",
              "  <tbody>\n",
              "    <tr>\n",
              "      <th>Чистый классификатор</th>\n",
              "      <td>[0.47655999660491943, 0.5612599849700928, 0.58...</td>\n",
              "      <td>[0.5540000200271606, 0.5809999704360962, 0.593...</td>\n",
              "    </tr>\n",
              "    <tr>\n",
              "      <th>Классификатор + итеративная разморозка + адаптивный lr</th>\n",
              "      <td>[0.7158200144767761, 0.7195000052452087, 0.718...</td>\n",
              "      <td>[0.6258999705314636, 0.6237999796867371, 0.625...</td>\n",
              "    </tr>\n",
              "    <tr>\n",
              "      <th>Классификатор + аугментация</th>\n",
              "      <td>[0.4475800096988678, 0.5313000082969666, 0.546...</td>\n",
              "      <td>[0.546999990940094, 0.5723000168800354, 0.5810...</td>\n",
              "    </tr>\n",
              "  </tbody>\n",
              "</table>\n",
              "</div>\n",
              "    <div class=\"colab-df-buttons\">\n",
              "\n",
              "  <div class=\"colab-df-container\">\n",
              "    <button class=\"colab-df-convert\" onclick=\"convertToInteractive('df-2d04c17b-7bf5-4fd0-9adc-6c8b1f3d2647')\"\n",
              "            title=\"Convert this dataframe to an interactive table.\"\n",
              "            style=\"display:none;\">\n",
              "\n",
              "  <svg xmlns=\"http://www.w3.org/2000/svg\" height=\"24px\" viewBox=\"0 -960 960 960\">\n",
              "    <path d=\"M120-120v-720h720v720H120Zm60-500h600v-160H180v160Zm220 220h160v-160H400v160Zm0 220h160v-160H400v160ZM180-400h160v-160H180v160Zm440 0h160v-160H620v160ZM180-180h160v-160H180v160Zm440 0h160v-160H620v160Z\"/>\n",
              "  </svg>\n",
              "    </button>\n",
              "\n",
              "  <style>\n",
              "    .colab-df-container {\n",
              "      display:flex;\n",
              "      gap: 12px;\n",
              "    }\n",
              "\n",
              "    .colab-df-convert {\n",
              "      background-color: #E8F0FE;\n",
              "      border: none;\n",
              "      border-radius: 50%;\n",
              "      cursor: pointer;\n",
              "      display: none;\n",
              "      fill: #1967D2;\n",
              "      height: 32px;\n",
              "      padding: 0 0 0 0;\n",
              "      width: 32px;\n",
              "    }\n",
              "\n",
              "    .colab-df-convert:hover {\n",
              "      background-color: #E2EBFA;\n",
              "      box-shadow: 0px 1px 2px rgba(60, 64, 67, 0.3), 0px 1px 3px 1px rgba(60, 64, 67, 0.15);\n",
              "      fill: #174EA6;\n",
              "    }\n",
              "\n",
              "    .colab-df-buttons div {\n",
              "      margin-bottom: 4px;\n",
              "    }\n",
              "\n",
              "    [theme=dark] .colab-df-convert {\n",
              "      background-color: #3B4455;\n",
              "      fill: #D2E3FC;\n",
              "    }\n",
              "\n",
              "    [theme=dark] .colab-df-convert:hover {\n",
              "      background-color: #434B5C;\n",
              "      box-shadow: 0px 1px 3px 1px rgba(0, 0, 0, 0.15);\n",
              "      filter: drop-shadow(0px 1px 2px rgba(0, 0, 0, 0.3));\n",
              "      fill: #FFFFFF;\n",
              "    }\n",
              "  </style>\n",
              "\n",
              "    <script>\n",
              "      const buttonEl =\n",
              "        document.querySelector('#df-2d04c17b-7bf5-4fd0-9adc-6c8b1f3d2647 button.colab-df-convert');\n",
              "      buttonEl.style.display =\n",
              "        google.colab.kernel.accessAllowed ? 'block' : 'none';\n",
              "\n",
              "      async function convertToInteractive(key) {\n",
              "        const element = document.querySelector('#df-2d04c17b-7bf5-4fd0-9adc-6c8b1f3d2647');\n",
              "        const dataTable =\n",
              "          await google.colab.kernel.invokeFunction('convertToInteractive',\n",
              "                                                    [key], {});\n",
              "        if (!dataTable) return;\n",
              "\n",
              "        const docLinkHtml = 'Like what you see? Visit the ' +\n",
              "          '<a target=\"_blank\" href=https://colab.research.google.com/notebooks/data_table.ipynb>data table notebook</a>'\n",
              "          + ' to learn more about interactive tables.';\n",
              "        element.innerHTML = '';\n",
              "        dataTable['output_type'] = 'display_data';\n",
              "        await google.colab.output.renderOutput(dataTable, element);\n",
              "        const docLink = document.createElement('div');\n",
              "        docLink.innerHTML = docLinkHtml;\n",
              "        element.appendChild(docLink);\n",
              "      }\n",
              "    </script>\n",
              "  </div>\n",
              "\n",
              "\n",
              "<div id=\"df-7c62c591-164f-4e52-bcc0-f62664701f16\">\n",
              "  <button class=\"colab-df-quickchart\" onclick=\"quickchart('df-7c62c591-164f-4e52-bcc0-f62664701f16')\"\n",
              "            title=\"Suggest charts\"\n",
              "            style=\"display:none;\">\n",
              "\n",
              "<svg xmlns=\"http://www.w3.org/2000/svg\" height=\"24px\"viewBox=\"0 0 24 24\"\n",
              "     width=\"24px\">\n",
              "    <g>\n",
              "        <path d=\"M19 3H5c-1.1 0-2 .9-2 2v14c0 1.1.9 2 2 2h14c1.1 0 2-.9 2-2V5c0-1.1-.9-2-2-2zM9 17H7v-7h2v7zm4 0h-2V7h2v10zm4 0h-2v-4h2v4z\"/>\n",
              "    </g>\n",
              "</svg>\n",
              "  </button>\n",
              "\n",
              "<style>\n",
              "  .colab-df-quickchart {\n",
              "      --bg-color: #E8F0FE;\n",
              "      --fill-color: #1967D2;\n",
              "      --hover-bg-color: #E2EBFA;\n",
              "      --hover-fill-color: #174EA6;\n",
              "      --disabled-fill-color: #AAA;\n",
              "      --disabled-bg-color: #DDD;\n",
              "  }\n",
              "\n",
              "  [theme=dark] .colab-df-quickchart {\n",
              "      --bg-color: #3B4455;\n",
              "      --fill-color: #D2E3FC;\n",
              "      --hover-bg-color: #434B5C;\n",
              "      --hover-fill-color: #FFFFFF;\n",
              "      --disabled-bg-color: #3B4455;\n",
              "      --disabled-fill-color: #666;\n",
              "  }\n",
              "\n",
              "  .colab-df-quickchart {\n",
              "    background-color: var(--bg-color);\n",
              "    border: none;\n",
              "    border-radius: 50%;\n",
              "    cursor: pointer;\n",
              "    display: none;\n",
              "    fill: var(--fill-color);\n",
              "    height: 32px;\n",
              "    padding: 0;\n",
              "    width: 32px;\n",
              "  }\n",
              "\n",
              "  .colab-df-quickchart:hover {\n",
              "    background-color: var(--hover-bg-color);\n",
              "    box-shadow: 0 1px 2px rgba(60, 64, 67, 0.3), 0 1px 3px 1px rgba(60, 64, 67, 0.15);\n",
              "    fill: var(--button-hover-fill-color);\n",
              "  }\n",
              "\n",
              "  .colab-df-quickchart-complete:disabled,\n",
              "  .colab-df-quickchart-complete:disabled:hover {\n",
              "    background-color: var(--disabled-bg-color);\n",
              "    fill: var(--disabled-fill-color);\n",
              "    box-shadow: none;\n",
              "  }\n",
              "\n",
              "  .colab-df-spinner {\n",
              "    border: 2px solid var(--fill-color);\n",
              "    border-color: transparent;\n",
              "    border-bottom-color: var(--fill-color);\n",
              "    animation:\n",
              "      spin 1s steps(1) infinite;\n",
              "  }\n",
              "\n",
              "  @keyframes spin {\n",
              "    0% {\n",
              "      border-color: transparent;\n",
              "      border-bottom-color: var(--fill-color);\n",
              "      border-left-color: var(--fill-color);\n",
              "    }\n",
              "    20% {\n",
              "      border-color: transparent;\n",
              "      border-left-color: var(--fill-color);\n",
              "      border-top-color: var(--fill-color);\n",
              "    }\n",
              "    30% {\n",
              "      border-color: transparent;\n",
              "      border-left-color: var(--fill-color);\n",
              "      border-top-color: var(--fill-color);\n",
              "      border-right-color: var(--fill-color);\n",
              "    }\n",
              "    40% {\n",
              "      border-color: transparent;\n",
              "      border-right-color: var(--fill-color);\n",
              "      border-top-color: var(--fill-color);\n",
              "    }\n",
              "    60% {\n",
              "      border-color: transparent;\n",
              "      border-right-color: var(--fill-color);\n",
              "    }\n",
              "    80% {\n",
              "      border-color: transparent;\n",
              "      border-right-color: var(--fill-color);\n",
              "      border-bottom-color: var(--fill-color);\n",
              "    }\n",
              "    90% {\n",
              "      border-color: transparent;\n",
              "      border-bottom-color: var(--fill-color);\n",
              "    }\n",
              "  }\n",
              "</style>\n",
              "\n",
              "  <script>\n",
              "    async function quickchart(key) {\n",
              "      const quickchartButtonEl =\n",
              "        document.querySelector('#' + key + ' button');\n",
              "      quickchartButtonEl.disabled = true;  // To prevent multiple clicks.\n",
              "      quickchartButtonEl.classList.add('colab-df-spinner');\n",
              "      try {\n",
              "        const charts = await google.colab.kernel.invokeFunction(\n",
              "            'suggestCharts', [key], {});\n",
              "      } catch (error) {\n",
              "        console.error('Error during call to suggestCharts:', error);\n",
              "      }\n",
              "      quickchartButtonEl.classList.remove('colab-df-spinner');\n",
              "      quickchartButtonEl.classList.add('colab-df-quickchart-complete');\n",
              "    }\n",
              "    (() => {\n",
              "      let quickchartButtonEl =\n",
              "        document.querySelector('#df-7c62c591-164f-4e52-bcc0-f62664701f16 button');\n",
              "      quickchartButtonEl.style.display =\n",
              "        google.colab.kernel.accessAllowed ? 'block' : 'none';\n",
              "    })();\n",
              "  </script>\n",
              "</div>\n",
              "    </div>\n",
              "  </div>\n"
            ]
          },
          "metadata": {},
          "execution_count": 28
        }
      ]
    },
    {
      "cell_type": "markdown",
      "source": [
        "Лучший результат показала конфигурация модели \"Классификатор + итеративная разморозка + адаптивный lr\" 73%, что значительно лучше базового классификатора (на 15 %). Худший результат показала конфигурация модели \"Классификатор + все возможные улучшения\".\n"
      ],
      "metadata": {
        "id": "GVNTUto20S-Y"
      }
    },
    {
      "cell_type": "code",
      "source": [
        "N = 21\n",
        "plt.imshow(x_test[N][:,:,:])\n",
        "plt.title('это : '+classes[np.argmax(y_test[N,:])])\n",
        "plt.show()"
      ],
      "metadata": {
        "colab": {
          "base_uri": "https://localhost:8080/",
          "height": 452
        },
        "id": "-dFdyhslwXDp",
        "outputId": "672f91e6-dfe6-48f0-c3b3-77c08911b59d"
      },
      "execution_count": null,
      "outputs": [
        {
          "output_type": "display_data",
          "data": {
            "text/plain": [
              "<Figure size 640x480 with 1 Axes>"
            ],
            "image/png": "[encoded data removed]"
          },
          "metadata": {}
        }
      ]
    },
    {
      "cell_type": "markdown",
      "source": [
        "# Псевдолейблинг"
      ],
      "metadata": {
        "id": "OlXmOEpToop-"
      }
    },
    {
      "cell_type": "code",
      "source": [
        "import numpy as np, pandas as pd, os\n",
        "from sklearn.discriminant_analysis import QuadraticDiscriminantAnalysis\n",
        "from sklearn.model_selection import StratifiedKFold\n",
        "from sklearn.feature_selection import VarianceThreshold\n",
        "from sklearn.metrics import roc_auc_score\n",
        "from tensorflow.keras.datasets import cifar10\n",
        "from tensorflow.keras import utils"
      ],
      "metadata": {
        "id": "nw2VO90xosgI"
      },
      "execution_count": null,
      "outputs": []
    },
    {
      "cell_type": "code",
      "source": [
        "import tensorflow as tf\n",
        "from tensorflow.keras import datasets, layers, models\n",
        "from tensorflow.keras.datasets import cifar10"
      ],
      "metadata": {
        "id": "JyOYpKJI31zU"
      },
      "execution_count": null,
      "outputs": []
    },
    {
      "cell_type": "code",
      "source": [
        "# Количество классов изображений\n",
        "nb_classes = 10\n",
        "# Названия классов из набора данных CIFAR-10\n",
        "classes=['самолет', 'автомобиль', 'птица', 'кот', 'олень', 'собака', 'лягушка', 'лошадь', 'корабль', 'грузовик']\n",
        "(x_train, y_train), (x_test, y_test) = cifar10.load_data()\n",
        "y_train10 = utils.to_categorical(y_train, nb_classes)\n",
        "y_test10 = utils.to_categorical(y_test, nb_classes)\n",
        "# разделение тренировочной и тестовой выборки\n",
        "(x_train, y_train), (x_test, y_test) = cifar10.load_data()\n",
        "print('x_train shape:', x_train.shape)\n",
        "print(x_train.shape[0], 'тренировочные примеры')\n",
        "print(x_test.shape[0], 'тестовые примеры')"
      ],
      "metadata": {
        "colab": {
          "base_uri": "https://localhost:8080/"
        },
        "id": "DFBFJT7g34A2",
        "outputId": "76058fee-976f-4570-e06d-76934511ba24"
      },
      "execution_count": null,
      "outputs": [
        {
          "output_type": "stream",
          "name": "stdout",
          "text": [
            "x_train shape: (50000, 32, 32, 3)\n",
            "50000 тренировочные примеры\n",
            "10000 тестовые примеры\n"
          ]
        }
      ]
    },
    {
      "cell_type": "code",
      "source": [
        "#Набор для псевдолейблинга из 1000 экземпляров (всего в тестовом 10000, берем 10%)\n",
        "x_test_2 = x_test[0:1000]"
      ],
      "metadata": {
        "id": "fh9WHSz53aNa"
      },
      "execution_count": null,
      "outputs": []
    },
    {
      "cell_type": "code",
      "source": [
        "print('x_test shape:', x_test.shape)\n",
        "print('x_test_2 shape:', x_test_2.shape)"
      ],
      "metadata": {
        "colab": {
          "base_uri": "https://localhost:8080/"
        },
        "id": "vJ0sIsvV3qVA",
        "outputId": "75c804b4-68d3-4d0c-87f5-1baff236570b"
      },
      "execution_count": null,
      "outputs": [
        {
          "output_type": "stream",
          "name": "stdout",
          "text": [
            "x_test shape: (10000, 32, 32, 3)\n",
            "x_test_2 shape: (1000, 32, 32, 3)\n"
          ]
        }
      ]
    },
    {
      "cell_type": "code",
      "source": [
        "y_test_4 = []"
      ],
      "metadata": {
        "id": "Z026kkzRQzg6"
      },
      "execution_count": null,
      "outputs": []
    },
    {
      "cell_type": "code",
      "source": [
        "#Предсказание модели для новой выборки\n",
        "for i in x_test_2:\n",
        "  pred = np.argmax(base_model.predict(i[None, ...])[0, ...])\n",
        "  y_test_4.append([pred])"
      ],
      "metadata": {
        "id": "B56LeAPiE8Cx"
      },
      "execution_count": null,
      "outputs": []
    },
    {
      "cell_type": "code",
      "source": [
        "y_train_4_10 = utils.to_categorical(y_test_4, nb_classes)"
      ],
      "metadata": {
        "id": "laPCrZ6-SAoN"
      },
      "execution_count": null,
      "outputs": []
    },
    {
      "cell_type": "code",
      "source": [
        "x_train_final = np.vstack([x_train, x_test_2])"
      ],
      "metadata": {
        "id": "4DJ_Wx6zZ4cD"
      },
      "execution_count": null,
      "outputs": []
    },
    {
      "cell_type": "code",
      "source": [
        "y_train_final_10 = np.vstack([y_train10, y_train_4_10])"
      ],
      "metadata": {
        "id": "sP2x3o0laCvs"
      },
      "execution_count": null,
      "outputs": []
    },
    {
      "cell_type": "code",
      "source": [
        "print('x_train_final:', x_train_final.shape)\n",
        "print('y_train_final:', y_train_final_10.shape)"
      ],
      "metadata": {
        "colab": {
          "base_uri": "https://localhost:8080/"
        },
        "id": "uu7p-W1y8xC9",
        "outputId": "7df36cca-5b44-45df-8fed-90782f16df93"
      },
      "execution_count": null,
      "outputs": [
        {
          "output_type": "stream",
          "name": "stdout",
          "text": [
            "x_train_final: (51000, 32, 32, 3)\n",
            "y_train_final: (51000, 10)\n"
          ]
        }
      ]
    },
    {
      "cell_type": "code",
      "source": [
        "#Обучение лучшей конфигурации модели на увеличенном наборе данных\n",
        "history = base_model.fit(x_train_final, y_train_final_10,\n",
        "              epochs=20,\n",
        "              validation_data=(x_test, y_test10),\n",
        "              shuffle=True)"
      ],
      "metadata": {
        "colab": {
          "base_uri": "https://localhost:8080/"
        },
        "id": "3jzYK7PH8xIo",
        "outputId": "38223e31-496b-4d5e-d592-f8ba4e1368b3"
      },
      "execution_count": null,
      "outputs": [
        {
          "output_type": "stream",
          "name": "stdout",
          "text": [
            "Epoch 1/20\n",
            "1594/1594 [==============================] - 22s 14ms/step - loss: 0.7874 - accuracy: 0.7275 - val_loss: 1.1380 - val_accuracy: 0.6236\n",
            "Epoch 2/20\n",
            "1594/1594 [==============================] - 19s 12ms/step - loss: 0.7845 - accuracy: 0.7278 - val_loss: 1.1358 - val_accuracy: 0.6245\n",
            "Epoch 3/20\n",
            "1594/1594 [==============================] - 19s 12ms/step - loss: 0.7781 - accuracy: 0.7284 - val_loss: 1.1321 - val_accuracy: 0.6255\n",
            "Epoch 4/20\n",
            "1594/1594 [==============================] - 20s 12ms/step - loss: 0.7856 - accuracy: 0.7271 - val_loss: 1.1370 - val_accuracy: 0.6264\n",
            "Epoch 5/20\n",
            "1594/1594 [==============================] - 22s 14ms/step - loss: 0.7800 - accuracy: 0.7284 - val_loss: 1.1316 - val_accuracy: 0.6244\n",
            "Epoch 6/20\n",
            "1594/1594 [==============================] - 23s 14ms/step - loss: 0.7742 - accuracy: 0.7328 - val_loss: 1.1373 - val_accuracy: 0.6248\n",
            "Epoch 7/20\n",
            "1594/1594 [==============================] - 26s 17ms/step - loss: 0.7728 - accuracy: 0.7323 - val_loss: 1.1369 - val_accuracy: 0.6260\n",
            "Epoch 8/20\n",
            "1594/1594 [==============================] - 27s 17ms/step - loss: 0.7714 - accuracy: 0.7324 - val_loss: 1.1313 - val_accuracy: 0.6235\n",
            "Epoch 9/20\n",
            "1594/1594 [==============================] - 24s 15ms/step - loss: 0.7734 - accuracy: 0.7314 - val_loss: 1.1355 - val_accuracy: 0.6249\n",
            "Epoch 10/20\n",
            "1594/1594 [==============================] - 25s 16ms/step - loss: 0.7694 - accuracy: 0.7342 - val_loss: 1.1344 - val_accuracy: 0.6246\n",
            "Epoch 11/20\n",
            "1594/1594 [==============================] - 23s 14ms/step - loss: 0.7716 - accuracy: 0.7311 - val_loss: 1.1370 - val_accuracy: 0.6266\n",
            "Epoch 12/20\n",
            "1594/1594 [==============================] - 23s 14ms/step - loss: 0.7689 - accuracy: 0.7335 - val_loss: 1.1343 - val_accuracy: 0.6268\n",
            "Epoch 13/20\n",
            "1594/1594 [==============================] - 23s 14ms/step - loss: 0.7686 - accuracy: 0.7333 - val_loss: 1.1415 - val_accuracy: 0.6252\n",
            "Epoch 14/20\n",
            "1594/1594 [==============================] - 21s 13ms/step - loss: 0.7651 - accuracy: 0.7333 - val_loss: 1.1378 - val_accuracy: 0.6254\n",
            "Epoch 15/20\n",
            "1594/1594 [==============================] - 21s 13ms/step - loss: 0.7617 - accuracy: 0.7365 - val_loss: 1.1415 - val_accuracy: 0.6245\n",
            "Epoch 16/20\n",
            "1594/1594 [==============================] - 22s 14ms/step - loss: 0.7602 - accuracy: 0.7378 - val_loss: 1.1505 - val_accuracy: 0.6233\n",
            "Epoch 17/20\n",
            "1594/1594 [==============================] - 22s 14ms/step - loss: 0.7619 - accuracy: 0.7364 - val_loss: 1.1498 - val_accuracy: 0.6227\n",
            "Epoch 18/20\n",
            "1594/1594 [==============================] - 21s 13ms/step - loss: 0.7576 - accuracy: 0.7387 - val_loss: 1.1417 - val_accuracy: 0.6255\n",
            "Epoch 19/20\n",
            "1594/1594 [==============================] - 20s 13ms/step - loss: 0.7591 - accuracy: 0.7370 - val_loss: 1.1493 - val_accuracy: 0.6242\n",
            "Epoch 20/20\n",
            "1594/1594 [==============================] - 20s 13ms/step - loss: 0.7543 - accuracy: 0.7376 - val_loss: 1.1470 - val_accuracy: 0.6241\n"
          ]
        }
      ]
    },
    {
      "cell_type": "code",
      "source": [
        "df_results_2.loc['Псевдолейблинг_10%'] = [history.history['accuracy'], history.history['val_accuracy']]"
      ],
      "metadata": {
        "id": "s1XrvaX1cQjC"
      },
      "execution_count": null,
      "outputs": []
    },
    {
      "cell_type": "code",
      "source": [
        "df_results_2"
      ],
      "metadata": {
        "colab": {
          "base_uri": "https://localhost:8080/",
          "height": 112
        },
        "id": "0df8glHhcfZv",
        "outputId": "8adc670d-aeb3-4712-e36f-4ecc341d2c71"
      },
      "execution_count": null,
      "outputs": [
        {
          "output_type": "execute_result",
          "data": {
            "text/plain": [
              "                                                                                             accuracy  \\\n",
              "Классификатор + итеративная разморозка + адапти...  [0.7132400274276733, 0.7131800055503845, 0.717...   \n",
              "Псевдолейблинг_10%                                  [0.727450966835022, 0.7277843356132507, 0.7284...   \n",
              "\n",
              "                                                                                         val_accuracy  \n",
              "Классификатор + итеративная разморозка + адапти...  [0.6255999803543091, 0.6233999729156494, 0.622...  \n",
              "Псевдолейблинг_10%                                  [0.6236000061035156, 0.6244999766349792, 0.625...  "
            ],
            "text/html": [
              "\n",
              "  <div id=\"df-f7b7bc3a-162c-45fe-873c-5bc9905e1dc6\" class=\"colab-df-container\">\n",
              "    <div>\n",
              "<style scoped>\n",
              "    .dataframe tbody tr th:only-of-type {\n",
              "        vertical-align: middle;\n",
              "    }\n",
              "\n",
              "    .dataframe tbody tr th {\n",
              "        vertical-align: top;\n",
              "    }\n",
              "\n",
              "    .dataframe thead th {\n",
              "        text-align: right;\n",
              "    }\n",
              "</style>\n",
              "<table border=\"1\" class=\"dataframe\">\n",
              "  <thead>\n",
              "    <tr style=\"text-align: right;\">\n",
              "      <th></th>\n",
              "      <th>accuracy</th>\n",
              "      <th>val_accuracy</th>\n",
              "    </tr>\n",
              "  </thead>\n",
              "  <tbody>\n",
              "    <tr>\n",
              "      <th>Классификатор + итеративная разморозка + адаптивный lr</th>\n",
              "      <td>[0.7132400274276733, 0.7131800055503845, 0.717...</td>\n",
              "      <td>[0.6255999803543091, 0.6233999729156494, 0.622...</td>\n",
              "    </tr>\n",
              "    <tr>\n",
              "      <th>Псевдолейблинг_10%</th>\n",
              "      <td>[0.727450966835022, 0.7277843356132507, 0.7284...</td>\n",
              "      <td>[0.6236000061035156, 0.6244999766349792, 0.625...</td>\n",
              "    </tr>\n",
              "  </tbody>\n",
              "</table>\n",
              "</div>\n",
              "    <div class=\"colab-df-buttons\">\n",
              "\n",
              "  <div class=\"colab-df-container\">\n",
              "    <button class=\"colab-df-convert\" onclick=\"convertToInteractive('df-f7b7bc3a-162c-45fe-873c-5bc9905e1dc6')\"\n",
              "            title=\"Convert this dataframe to an interactive table.\"\n",
              "            style=\"display:none;\">\n",
              "\n",
              "  <svg xmlns=\"http://www.w3.org/2000/svg\" height=\"24px\" viewBox=\"0 -960 960 960\">\n",
              "    <path d=\"M120-120v-720h720v720H120Zm60-500h600v-160H180v160Zm220 220h160v-160H400v160Zm0 220h160v-160H400v160ZM180-400h160v-160H180v160Zm440 0h160v-160H620v160ZM180-180h160v-160H180v160Zm440 0h160v-160H620v160Z\"/>\n",
              "  </svg>\n",
              "    </button>\n",
              "\n",
              "  <style>\n",
              "    .colab-df-container {\n",
              "      display:flex;\n",
              "      gap: 12px;\n",
              "    }\n",
              "\n",
              "    .colab-df-convert {\n",
              "      background-color: #E8F0FE;\n",
              "      border: none;\n",
              "      border-radius: 50%;\n",
              "      cursor: pointer;\n",
              "      display: none;\n",
              "      fill: #1967D2;\n",
              "      height: 32px;\n",
              "      padding: 0 0 0 0;\n",
              "      width: 32px;\n",
              "    }\n",
              "\n",
              "    .colab-df-convert:hover {\n",
              "      background-color: #E2EBFA;\n",
              "      box-shadow: 0px 1px 2px rgba(60, 64, 67, 0.3), 0px 1px 3px 1px rgba(60, 64, 67, 0.15);\n",
              "      fill: #174EA6;\n",
              "    }\n",
              "\n",
              "    .colab-df-buttons div {\n",
              "      margin-bottom: 4px;\n",
              "    }\n",
              "\n",
              "    [theme=dark] .colab-df-convert {\n",
              "      background-color: #3B4455;\n",
              "      fill: #D2E3FC;\n",
              "    }\n",
              "\n",
              "    [theme=dark] .colab-df-convert:hover {\n",
              "      background-color: #434B5C;\n",
              "      box-shadow: 0px 1px 3px 1px rgba(0, 0, 0, 0.15);\n",
              "      filter: drop-shadow(0px 1px 2px rgba(0, 0, 0, 0.3));\n",
              "      fill: #FFFFFF;\n",
              "    }\n",
              "  </style>\n",
              "\n",
              "    <script>\n",
              "      const buttonEl =\n",
              "        document.querySelector('#df-f7b7bc3a-162c-45fe-873c-5bc9905e1dc6 button.colab-df-convert');\n",
              "      buttonEl.style.display =\n",
              "        google.colab.kernel.accessAllowed ? 'block' : 'none';\n",
              "\n",
              "      async function convertToInteractive(key) {\n",
              "        const element = document.querySelector('#df-f7b7bc3a-162c-45fe-873c-5bc9905e1dc6');\n",
              "        const dataTable =\n",
              "          await google.colab.kernel.invokeFunction('convertToInteractive',\n",
              "                                                    [key], {});\n",
              "        if (!dataTable) return;\n",
              "\n",
              "        const docLinkHtml = 'Like what you see? Visit the ' +\n",
              "          '<a target=\"_blank\" href=https://colab.research.google.com/notebooks/data_table.ipynb>data table notebook</a>'\n",
              "          + ' to learn more about interactive tables.';\n",
              "        element.innerHTML = '';\n",
              "        dataTable['output_type'] = 'display_data';\n",
              "        await google.colab.output.renderOutput(dataTable, element);\n",
              "        const docLink = document.createElement('div');\n",
              "        docLink.innerHTML = docLinkHtml;\n",
              "        element.appendChild(docLink);\n",
              "      }\n",
              "    </script>\n",
              "  </div>\n",
              "\n",
              "\n",
              "<div id=\"df-f1d54922-ffac-41f4-b74c-e1de156e6079\">\n",
              "  <button class=\"colab-df-quickchart\" onclick=\"quickchart('df-f1d54922-ffac-41f4-b74c-e1de156e6079')\"\n",
              "            title=\"Suggest charts\"\n",
              "            style=\"display:none;\">\n",
              "\n",
              "<svg xmlns=\"http://www.w3.org/2000/svg\" height=\"24px\"viewBox=\"0 0 24 24\"\n",
              "     width=\"24px\">\n",
              "    <g>\n",
              "        <path d=\"M19 3H5c-1.1 0-2 .9-2 2v14c0 1.1.9 2 2 2h14c1.1 0 2-.9 2-2V5c0-1.1-.9-2-2-2zM9 17H7v-7h2v7zm4 0h-2V7h2v10zm4 0h-2v-4h2v4z\"/>\n",
              "    </g>\n",
              "</svg>\n",
              "  </button>\n",
              "\n",
              "<style>\n",
              "  .colab-df-quickchart {\n",
              "      --bg-color: #E8F0FE;\n",
              "      --fill-color: #1967D2;\n",
              "      --hover-bg-color: #E2EBFA;\n",
              "      --hover-fill-color: #174EA6;\n",
              "      --disabled-fill-color: #AAA;\n",
              "      --disabled-bg-color: #DDD;\n",
              "  }\n",
              "\n",
              "  [theme=dark] .colab-df-quickchart {\n",
              "      --bg-color: #3B4455;\n",
              "      --fill-color: #D2E3FC;\n",
              "      --hover-bg-color: #434B5C;\n",
              "      --hover-fill-color: #FFFFFF;\n",
              "      --disabled-bg-color: #3B4455;\n",
              "      --disabled-fill-color: #666;\n",
              "  }\n",
              "\n",
              "  .colab-df-quickchart {\n",
              "    background-color: var(--bg-color);\n",
              "    border: none;\n",
              "    border-radius: 50%;\n",
              "    cursor: pointer;\n",
              "    display: none;\n",
              "    fill: var(--fill-color);\n",
              "    height: 32px;\n",
              "    padding: 0;\n",
              "    width: 32px;\n",
              "  }\n",
              "\n",
              "  .colab-df-quickchart:hover {\n",
              "    background-color: var(--hover-bg-color);\n",
              "    box-shadow: 0 1px 2px rgba(60, 64, 67, 0.3), 0 1px 3px 1px rgba(60, 64, 67, 0.15);\n",
              "    fill: var(--button-hover-fill-color);\n",
              "  }\n",
              "\n",
              "  .colab-df-quickchart-complete:disabled,\n",
              "  .colab-df-quickchart-complete:disabled:hover {\n",
              "    background-color: var(--disabled-bg-color);\n",
              "    fill: var(--disabled-fill-color);\n",
              "    box-shadow: none;\n",
              "  }\n",
              "\n",
              "  .colab-df-spinner {\n",
              "    border: 2px solid var(--fill-color);\n",
              "    border-color: transparent;\n",
              "    border-bottom-color: var(--fill-color);\n",
              "    animation:\n",
              "      spin 1s steps(1) infinite;\n",
              "  }\n",
              "\n",
              "  @keyframes spin {\n",
              "    0% {\n",
              "      border-color: transparent;\n",
              "      border-bottom-color: var(--fill-color);\n",
              "      border-left-color: var(--fill-color);\n",
              "    }\n",
              "    20% {\n",
              "      border-color: transparent;\n",
              "      border-left-color: var(--fill-color);\n",
              "      border-top-color: var(--fill-color);\n",
              "    }\n",
              "    30% {\n",
              "      border-color: transparent;\n",
              "      border-left-color: var(--fill-color);\n",
              "      border-top-color: var(--fill-color);\n",
              "      border-right-color: var(--fill-color);\n",
              "    }\n",
              "    40% {\n",
              "      border-color: transparent;\n",
              "      border-right-color: var(--fill-color);\n",
              "      border-top-color: var(--fill-color);\n",
              "    }\n",
              "    60% {\n",
              "      border-color: transparent;\n",
              "      border-right-color: var(--fill-color);\n",
              "    }\n",
              "    80% {\n",
              "      border-color: transparent;\n",
              "      border-right-color: var(--fill-color);\n",
              "      border-bottom-color: var(--fill-color);\n",
              "    }\n",
              "    90% {\n",
              "      border-color: transparent;\n",
              "      border-bottom-color: var(--fill-color);\n",
              "    }\n",
              "  }\n",
              "</style>\n",
              "\n",
              "  <script>\n",
              "    async function quickchart(key) {\n",
              "      const quickchartButtonEl =\n",
              "        document.querySelector('#' + key + ' button');\n",
              "      quickchartButtonEl.disabled = true;  // To prevent multiple clicks.\n",
              "      quickchartButtonEl.classList.add('colab-df-spinner');\n",
              "      try {\n",
              "        const charts = await google.colab.kernel.invokeFunction(\n",
              "            'suggestCharts', [key], {});\n",
              "      } catch (error) {\n",
              "        console.error('Error during call to suggestCharts:', error);\n",
              "      }\n",
              "      quickchartButtonEl.classList.remove('colab-df-spinner');\n",
              "      quickchartButtonEl.classList.add('colab-df-quickchart-complete');\n",
              "    }\n",
              "    (() => {\n",
              "      let quickchartButtonEl =\n",
              "        document.querySelector('#df-f1d54922-ffac-41f4-b74c-e1de156e6079 button');\n",
              "      quickchartButtonEl.style.display =\n",
              "        google.colab.kernel.accessAllowed ? 'block' : 'none';\n",
              "    })();\n",
              "  </script>\n",
              "</div>\n",
              "    </div>\n",
              "  </div>\n"
            ]
          },
          "metadata": {},
          "execution_count": 89
        }
      ]
    },
    {
      "cell_type": "markdown",
      "source": [
        "На сравнительно небольшом количестве данных, добавленных посредством псевдолейблинга (в исходном тренировочном наборе было 50 000 экземпляров, добавили 10 % от тестового набора, т.е. 1 000 экземпляров), модель показала значительное улучшение результата - на 1%."
      ],
      "metadata": {
        "id": "0JMrmxpmcODw"
      }
    },
    {
      "cell_type": "markdown",
      "source": [
        "Попробуем задействовать 30% тестового датасета для псевдолейблинга и замерим результат работы модели."
      ],
      "metadata": {
        "id": "gl4yH6Z_dwgT"
      }
    },
    {
      "cell_type": "code",
      "source": [
        "#Набор для псевдолейблинга из 3 000 экземпляров (всего в тестовом 10000, берем 30%)\n",
        "x_test_30 = x_test[0:3000]"
      ],
      "metadata": {
        "id": "0eYRz9k6dvX4"
      },
      "execution_count": null,
      "outputs": []
    },
    {
      "cell_type": "code",
      "source": [
        "print('x_test shape:', x_test.shape)\n",
        "print('x_test_30 shape:', x_test_30.shape)"
      ],
      "metadata": {
        "colab": {
          "base_uri": "https://localhost:8080/"
        },
        "id": "u0ALQoKseLRI",
        "outputId": "2d40a4fb-b919-406a-b8a4-259f60ef3787"
      },
      "execution_count": null,
      "outputs": [
        {
          "output_type": "stream",
          "name": "stdout",
          "text": [
            "x_test shape: (10000, 32, 32, 3)\n",
            "x_test_30 shape: (3000, 32, 32, 3)\n"
          ]
        }
      ]
    },
    {
      "cell_type": "code",
      "source": [
        "y_test_30 = []"
      ],
      "metadata": {
        "id": "27clgIBNeRkX"
      },
      "execution_count": null,
      "outputs": []
    },
    {
      "cell_type": "code",
      "source": [
        "#Предсказание модели для новой выборки\n",
        "for i in x_test_30:\n",
        "  pred = np.argmax(base_model.predict(i[None, ...])[0, ...])\n",
        "  y_test_30.append([pred])"
      ],
      "metadata": {
        "id": "lko-3kMGeWMu"
      },
      "execution_count": null,
      "outputs": []
    },
    {
      "cell_type": "code",
      "source": [
        "y_train_30_10 = utils.to_categorical(y_test_30, nb_classes)"
      ],
      "metadata": {
        "id": "krJaqrXTefJW"
      },
      "execution_count": null,
      "outputs": []
    },
    {
      "cell_type": "code",
      "source": [
        "x_train_final_30 = np.vstack([x_train, x_test_30])\n",
        "y_train_final_30_10 = np.vstack([y_train10, y_train_30_10])\n",
        "print('x_train_final:', x_train_final_30.shape)\n",
        "print('y_train_final:', y_train_final_30_10.shape)"
      ],
      "metadata": {
        "colab": {
          "base_uri": "https://localhost:8080/"
        },
        "id": "e4sjQhVdelg1",
        "outputId": "2be02c0f-cc19-498c-8d4c-25547b6a08de"
      },
      "execution_count": null,
      "outputs": [
        {
          "output_type": "stream",
          "name": "stdout",
          "text": [
            "x_train_final: (53000, 32, 32, 3)\n",
            "y_train_final: (53000, 10)\n"
          ]
        }
      ]
    },
    {
      "cell_type": "code",
      "source": [
        "#Обучение лучшей конфигурации модели на увеличенном наборе данных\n",
        "history = base_model.fit(x_train_final_30, y_train_final_30_10,\n",
        "              epochs=20,\n",
        "              validation_data=(x_test, y_test10),\n",
        "              shuffle=True)"
      ],
      "metadata": {
        "colab": {
          "base_uri": "https://localhost:8080/"
        },
        "id": "UmRjecL_fAvI",
        "outputId": "7bf3c0f5-56c0-45f3-a246-afb3641d5e22"
      },
      "execution_count": null,
      "outputs": [
        {
          "output_type": "stream",
          "name": "stdout",
          "text": [
            "Epoch 1/20\n",
            "1657/1657 [==============================] - 23s 14ms/step - loss: 0.7468 - accuracy: 0.7412 - val_loss: 1.1505 - val_accuracy: 0.6236\n",
            "Epoch 2/20\n",
            "1657/1657 [==============================] - 22s 13ms/step - loss: 0.7457 - accuracy: 0.7409 - val_loss: 1.1487 - val_accuracy: 0.6246\n",
            "Epoch 3/20\n",
            "1657/1657 [==============================] - 22s 13ms/step - loss: 0.7441 - accuracy: 0.7408 - val_loss: 1.1485 - val_accuracy: 0.6235\n",
            "Epoch 4/20\n",
            "1657/1657 [==============================] - 22s 13ms/step - loss: 0.7411 - accuracy: 0.7445 - val_loss: 1.1502 - val_accuracy: 0.6266\n",
            "Epoch 5/20\n",
            "1657/1657 [==============================] - 20s 12ms/step - loss: 0.7382 - accuracy: 0.7449 - val_loss: 1.1639 - val_accuracy: 0.6230\n",
            "Epoch 6/20\n",
            "1657/1657 [==============================] - 20s 12ms/step - loss: 0.7413 - accuracy: 0.7426 - val_loss: 1.1800 - val_accuracy: 0.6225\n",
            "Epoch 7/20\n",
            "1657/1657 [==============================] - 23s 14ms/step - loss: 0.7357 - accuracy: 0.7452 - val_loss: 1.1612 - val_accuracy: 0.6237\n",
            "Epoch 8/20\n",
            "1657/1657 [==============================] - 21s 12ms/step - loss: 0.7364 - accuracy: 0.7433 - val_loss: 1.1597 - val_accuracy: 0.6213\n",
            "Epoch 9/20\n",
            "1657/1657 [==============================] - 23s 14ms/step - loss: 0.7341 - accuracy: 0.7455 - val_loss: 1.1619 - val_accuracy: 0.6230\n",
            "Epoch 10/20\n",
            "1657/1657 [==============================] - 23s 14ms/step - loss: 0.7354 - accuracy: 0.7467 - val_loss: 1.1640 - val_accuracy: 0.6222\n",
            "Epoch 11/20\n",
            "1657/1657 [==============================] - 20s 12ms/step - loss: 0.7349 - accuracy: 0.7444 - val_loss: 1.1533 - val_accuracy: 0.6231\n",
            "Epoch 12/20\n",
            "1657/1657 [==============================] - 20s 12ms/step - loss: 0.7307 - accuracy: 0.7479 - val_loss: 1.1666 - val_accuracy: 0.6238\n",
            "Epoch 13/20\n",
            "1657/1657 [==============================] - 23s 14ms/step - loss: 0.7296 - accuracy: 0.7490 - val_loss: 1.1671 - val_accuracy: 0.6225\n",
            "Epoch 14/20\n",
            "1657/1657 [==============================] - 20s 12ms/step - loss: 0.7262 - accuracy: 0.7490 - val_loss: 1.1668 - val_accuracy: 0.6229\n",
            "Epoch 15/20\n",
            "1657/1657 [==============================] - 22s 14ms/step - loss: 0.7245 - accuracy: 0.7492 - val_loss: 1.1677 - val_accuracy: 0.6240\n",
            "Epoch 16/20\n",
            "1657/1657 [==============================] - 20s 12ms/step - loss: 0.7240 - accuracy: 0.7498 - val_loss: 1.1708 - val_accuracy: 0.6234\n",
            "Epoch 17/20\n",
            "1657/1657 [==============================] - 22s 13ms/step - loss: 0.7218 - accuracy: 0.7493 - val_loss: 1.1727 - val_accuracy: 0.6205\n",
            "Epoch 18/20\n",
            "1657/1657 [==============================] - 23s 14ms/step - loss: 0.7216 - accuracy: 0.7498 - val_loss: 1.1726 - val_accuracy: 0.6228\n",
            "Epoch 19/20\n",
            "1657/1657 [==============================] - 20s 12ms/step - loss: 0.7211 - accuracy: 0.7501 - val_loss: 1.1681 - val_accuracy: 0.6248\n",
            "Epoch 20/20\n",
            "1657/1657 [==============================] - 23s 14ms/step - loss: 0.7184 - accuracy: 0.7498 - val_loss: 1.1766 - val_accuracy: 0.6220\n"
          ]
        }
      ]
    },
    {
      "cell_type": "code",
      "source": [
        "df_results_2.loc['Псевдолейблинг_30%'] = [history.history['accuracy'], history.history['val_accuracy']]\n",
        "df_results_2"
      ],
      "metadata": {
        "colab": {
          "base_uri": "https://localhost:8080/",
          "height": 143
        },
        "id": "6ObpY_ADfOcg",
        "outputId": "f618c261-8603-4602-97d4-b65282edbdcc"
      },
      "execution_count": null,
      "outputs": [
        {
          "output_type": "execute_result",
          "data": {
            "text/plain": [
              "                                                                                             accuracy  \\\n",
              "Классификатор + итеративная разморозка + адапти...  [0.7132400274276733, 0.7131800055503845, 0.717...   \n",
              "Псевдолейблинг_10%                                  [0.727450966835022, 0.7277843356132507, 0.7284...   \n",
              "Псевдолейблинг_30%                                  [0.7411887049674988, 0.7408679127693176, 0.740...   \n",
              "\n",
              "                                                                                         val_accuracy  \n",
              "Классификатор + итеративная разморозка + адапти...  [0.6255999803543091, 0.6233999729156494, 0.622...  \n",
              "Псевдолейблинг_10%                                  [0.6236000061035156, 0.6244999766349792, 0.625...  \n",
              "Псевдолейблинг_30%                                  [0.6236000061035156, 0.6245999932289124, 0.623...  "
            ],
            "text/html": [
              "\n",
              "  <div id=\"df-e45451b7-6393-460d-96aa-5749011ed1bd\" class=\"colab-df-container\">\n",
              "    <div>\n",
              "<style scoped>\n",
              "    .dataframe tbody tr th:only-of-type {\n",
              "        vertical-align: middle;\n",
              "    }\n",
              "\n",
              "    .dataframe tbody tr th {\n",
              "        vertical-align: top;\n",
              "    }\n",
              "\n",
              "    .dataframe thead th {\n",
              "        text-align: right;\n",
              "    }\n",
              "</style>\n",
              "<table border=\"1\" class=\"dataframe\">\n",
              "  <thead>\n",
              "    <tr style=\"text-align: right;\">\n",
              "      <th></th>\n",
              "      <th>accuracy</th>\n",
              "      <th>val_accuracy</th>\n",
              "    </tr>\n",
              "  </thead>\n",
              "  <tbody>\n",
              "    <tr>\n",
              "      <th>Классификатор + итеративная разморозка + адаптивный lr</th>\n",
              "      <td>[0.7132400274276733, 0.7131800055503845, 0.717...</td>\n",
              "      <td>[0.6255999803543091, 0.6233999729156494, 0.622...</td>\n",
              "    </tr>\n",
              "    <tr>\n",
              "      <th>Псевдолейблинг_10%</th>\n",
              "      <td>[0.727450966835022, 0.7277843356132507, 0.7284...</td>\n",
              "      <td>[0.6236000061035156, 0.6244999766349792, 0.625...</td>\n",
              "    </tr>\n",
              "    <tr>\n",
              "      <th>Псевдолейблинг_30%</th>\n",
              "      <td>[0.7411887049674988, 0.7408679127693176, 0.740...</td>\n",
              "      <td>[0.6236000061035156, 0.6245999932289124, 0.623...</td>\n",
              "    </tr>\n",
              "  </tbody>\n",
              "</table>\n",
              "</div>\n",
              "    <div class=\"colab-df-buttons\">\n",
              "\n",
              "  <div class=\"colab-df-container\">\n",
              "    <button class=\"colab-df-convert\" onclick=\"convertToInteractive('df-e45451b7-6393-460d-96aa-5749011ed1bd')\"\n",
              "            title=\"Convert this dataframe to an interactive table.\"\n",
              "            style=\"display:none;\">\n",
              "\n",
              "  <svg xmlns=\"http://www.w3.org/2000/svg\" height=\"24px\" viewBox=\"0 -960 960 960\">\n",
              "    <path d=\"M120-120v-720h720v720H120Zm60-500h600v-160H180v160Zm220 220h160v-160H400v160Zm0 220h160v-160H400v160ZM180-400h160v-160H180v160Zm440 0h160v-160H620v160ZM180-180h160v-160H180v160Zm440 0h160v-160H620v160Z\"/>\n",
              "  </svg>\n",
              "    </button>\n",
              "\n",
              "  <style>\n",
              "    .colab-df-container {\n",
              "      display:flex;\n",
              "      gap: 12px;\n",
              "    }\n",
              "\n",
              "    .colab-df-convert {\n",
              "      background-color: #E8F0FE;\n",
              "      border: none;\n",
              "      border-radius: 50%;\n",
              "      cursor: pointer;\n",
              "      display: none;\n",
              "      fill: #1967D2;\n",
              "      height: 32px;\n",
              "      padding: 0 0 0 0;\n",
              "      width: 32px;\n",
              "    }\n",
              "\n",
              "    .colab-df-convert:hover {\n",
              "      background-color: #E2EBFA;\n",
              "      box-shadow: 0px 1px 2px rgba(60, 64, 67, 0.3), 0px 1px 3px 1px rgba(60, 64, 67, 0.15);\n",
              "      fill: #174EA6;\n",
              "    }\n",
              "\n",
              "    .colab-df-buttons div {\n",
              "      margin-bottom: 4px;\n",
              "    }\n",
              "\n",
              "    [theme=dark] .colab-df-convert {\n",
              "      background-color: #3B4455;\n",
              "      fill: #D2E3FC;\n",
              "    }\n",
              "\n",
              "    [theme=dark] .colab-df-convert:hover {\n",
              "      background-color: #434B5C;\n",
              "      box-shadow: 0px 1px 3px 1px rgba(0, 0, 0, 0.15);\n",
              "      filter: drop-shadow(0px 1px 2px rgba(0, 0, 0, 0.3));\n",
              "      fill: #FFFFFF;\n",
              "    }\n",
              "  </style>\n",
              "\n",
              "    <script>\n",
              "      const buttonEl =\n",
              "        document.querySelector('#df-e45451b7-6393-460d-96aa-5749011ed1bd button.colab-df-convert');\n",
              "      buttonEl.style.display =\n",
              "        google.colab.kernel.accessAllowed ? 'block' : 'none';\n",
              "\n",
              "      async function convertToInteractive(key) {\n",
              "        const element = document.querySelector('#df-e45451b7-6393-460d-96aa-5749011ed1bd');\n",
              "        const dataTable =\n",
              "          await google.colab.kernel.invokeFunction('convertToInteractive',\n",
              "                                                    [key], {});\n",
              "        if (!dataTable) return;\n",
              "\n",
              "        const docLinkHtml = 'Like what you see? Visit the ' +\n",
              "          '<a target=\"_blank\" href=https://colab.research.google.com/notebooks/data_table.ipynb>data table notebook</a>'\n",
              "          + ' to learn more about interactive tables.';\n",
              "        element.innerHTML = '';\n",
              "        dataTable['output_type'] = 'display_data';\n",
              "        await google.colab.output.renderOutput(dataTable, element);\n",
              "        const docLink = document.createElement('div');\n",
              "        docLink.innerHTML = docLinkHtml;\n",
              "        element.appendChild(docLink);\n",
              "      }\n",
              "    </script>\n",
              "  </div>\n",
              "\n",
              "\n",
              "<div id=\"df-68ed5015-b3e3-4060-b951-7bc50f1ffd68\">\n",
              "  <button class=\"colab-df-quickchart\" onclick=\"quickchart('df-68ed5015-b3e3-4060-b951-7bc50f1ffd68')\"\n",
              "            title=\"Suggest charts\"\n",
              "            style=\"display:none;\">\n",
              "\n",
              "<svg xmlns=\"http://www.w3.org/2000/svg\" height=\"24px\"viewBox=\"0 0 24 24\"\n",
              "     width=\"24px\">\n",
              "    <g>\n",
              "        <path d=\"M19 3H5c-1.1 0-2 .9-2 2v14c0 1.1.9 2 2 2h14c1.1 0 2-.9 2-2V5c0-1.1-.9-2-2-2zM9 17H7v-7h2v7zm4 0h-2V7h2v10zm4 0h-2v-4h2v4z\"/>\n",
              "    </g>\n",
              "</svg>\n",
              "  </button>\n",
              "\n",
              "<style>\n",
              "  .colab-df-quickchart {\n",
              "      --bg-color: #E8F0FE;\n",
              "      --fill-color: #1967D2;\n",
              "      --hover-bg-color: #E2EBFA;\n",
              "      --hover-fill-color: #174EA6;\n",
              "      --disabled-fill-color: #AAA;\n",
              "      --disabled-bg-color: #DDD;\n",
              "  }\n",
              "\n",
              "  [theme=dark] .colab-df-quickchart {\n",
              "      --bg-color: #3B4455;\n",
              "      --fill-color: #D2E3FC;\n",
              "      --hover-bg-color: #434B5C;\n",
              "      --hover-fill-color: #FFFFFF;\n",
              "      --disabled-bg-color: #3B4455;\n",
              "      --disabled-fill-color: #666;\n",
              "  }\n",
              "\n",
              "  .colab-df-quickchart {\n",
              "    background-color: var(--bg-color);\n",
              "    border: none;\n",
              "    border-radius: 50%;\n",
              "    cursor: pointer;\n",
              "    display: none;\n",
              "    fill: var(--fill-color);\n",
              "    height: 32px;\n",
              "    padding: 0;\n",
              "    width: 32px;\n",
              "  }\n",
              "\n",
              "  .colab-df-quickchart:hover {\n",
              "    background-color: var(--hover-bg-color);\n",
              "    box-shadow: 0 1px 2px rgba(60, 64, 67, 0.3), 0 1px 3px 1px rgba(60, 64, 67, 0.15);\n",
              "    fill: var(--button-hover-fill-color);\n",
              "  }\n",
              "\n",
              "  .colab-df-quickchart-complete:disabled,\n",
              "  .colab-df-quickchart-complete:disabled:hover {\n",
              "    background-color: var(--disabled-bg-color);\n",
              "    fill: var(--disabled-fill-color);\n",
              "    box-shadow: none;\n",
              "  }\n",
              "\n",
              "  .colab-df-spinner {\n",
              "    border: 2px solid var(--fill-color);\n",
              "    border-color: transparent;\n",
              "    border-bottom-color: var(--fill-color);\n",
              "    animation:\n",
              "      spin 1s steps(1) infinite;\n",
              "  }\n",
              "\n",
              "  @keyframes spin {\n",
              "    0% {\n",
              "      border-color: transparent;\n",
              "      border-bottom-color: var(--fill-color);\n",
              "      border-left-color: var(--fill-color);\n",
              "    }\n",
              "    20% {\n",
              "      border-color: transparent;\n",
              "      border-left-color: var(--fill-color);\n",
              "      border-top-color: var(--fill-color);\n",
              "    }\n",
              "    30% {\n",
              "      border-color: transparent;\n",
              "      border-left-color: var(--fill-color);\n",
              "      border-top-color: var(--fill-color);\n",
              "      border-right-color: var(--fill-color);\n",
              "    }\n",
              "    40% {\n",
              "      border-color: transparent;\n",
              "      border-right-color: var(--fill-color);\n",
              "      border-top-color: var(--fill-color);\n",
              "    }\n",
              "    60% {\n",
              "      border-color: transparent;\n",
              "      border-right-color: var(--fill-color);\n",
              "    }\n",
              "    80% {\n",
              "      border-color: transparent;\n",
              "      border-right-color: var(--fill-color);\n",
              "      border-bottom-color: var(--fill-color);\n",
              "    }\n",
              "    90% {\n",
              "      border-color: transparent;\n",
              "      border-bottom-color: var(--fill-color);\n",
              "    }\n",
              "  }\n",
              "</style>\n",
              "\n",
              "  <script>\n",
              "    async function quickchart(key) {\n",
              "      const quickchartButtonEl =\n",
              "        document.querySelector('#' + key + ' button');\n",
              "      quickchartButtonEl.disabled = true;  // To prevent multiple clicks.\n",
              "      quickchartButtonEl.classList.add('colab-df-spinner');\n",
              "      try {\n",
              "        const charts = await google.colab.kernel.invokeFunction(\n",
              "            'suggestCharts', [key], {});\n",
              "      } catch (error) {\n",
              "        console.error('Error during call to suggestCharts:', error);\n",
              "      }\n",
              "      quickchartButtonEl.classList.remove('colab-df-spinner');\n",
              "      quickchartButtonEl.classList.add('colab-df-quickchart-complete');\n",
              "    }\n",
              "    (() => {\n",
              "      let quickchartButtonEl =\n",
              "        document.querySelector('#df-68ed5015-b3e3-4060-b951-7bc50f1ffd68 button');\n",
              "      quickchartButtonEl.style.display =\n",
              "        google.colab.kernel.accessAllowed ? 'block' : 'none';\n",
              "    })();\n",
              "  </script>\n",
              "</div>\n",
              "    </div>\n",
              "  </div>\n"
            ]
          },
          "metadata": {},
          "execution_count": 97
        }
      ]
    },
    {
      "cell_type": "markdown",
      "source": [
        "На большом количестве данных, добавленных посредством псевдолейблинга (30 % от тестового набора данных (в исходном тренировочном наборе было 50 000 экземпляров, добавили 3 000 экземпляров), модель показала значительно лучшее качество. Правильность ответов модели увеличилась на 2% от лучшей конфигурации, и на 1% относительно псевдолейблинга на 10% от тестового сета. Это очень хорошее улучшение результата, но 30% от тестового сета для использования псевдолейблинга это много."
      ],
      "metadata": {
        "id": "0eQJoQnCfbXg"
      }
    },
    {
      "cell_type": "markdown",
      "source": [
        "**Задание №2**"
      ],
      "metadata": {
        "id": "g02IeGkYsvwq"
      }
    },
    {
      "cell_type": "markdown",
      "source": [
        "**Придумать 3 отличающихся от рассказанных на занятии метрики качества поиска (во всем многообразии элементов поисковой выдачи) и объяснить, почему их можно брать в качестве основных для оценки качества.**\n",
        "\n"
      ],
      "metadata": {
        "id": "y4z5txFpsYz8"
      }
    },
    {
      "cell_type": "markdown",
      "source": [
        "CTR@N — отношение количества выдач, в которых был хотя бы один клик в первые N позиций в выдаче, к количеству всех выдач, измеряется в процентах.\n",
        "Чем выше CTR, тем лучше."
      ],
      "metadata": {
        "id": "_BI_qpAnsah9"
      }
    },
    {
      "cell_type": "markdown",
      "source": [
        "В ряде случаев (например, новостная выдача), важен такой показатель как новизна. Эта метрика позволяет определить, насколько результаты поиска являются актуальными и свежими. Чем больше новизна, тем лучше."
      ],
      "metadata": {
        "id": "pwzpSFfExFcT"
      }
    },
    {
      "cell_type": "markdown",
      "source": [
        "Среднее время ответа (Average Response Time): Эта метрика измеряет время, затраченное на получение результатов поиска. Чем меньше среднее время ответа, тем быстрее пользователь получает результаты и тем лучше качество поиска."
      ],
      "metadata": {
        "id": "0dShpO-5xkUl"
      }
    },
    {
      "cell_type": "markdown",
      "source": [
        "**Задание №3**"
      ],
      "metadata": {
        "id": "VBz2fNWOx2Ve"
      }
    },
    {
      "cell_type": "markdown",
      "source": [
        "**Придумать 3 отличающихся от рассказанных на занятии метода улучшения качества разметки релевантности и объяснить, как именно они улучшат качество.**"
      ],
      "metadata": {
        "id": "Lhi_WJgBx5mj"
      }
    },
    {
      "cell_type": "markdown",
      "source": [
        "Анализ социальных сетей. Позволяет системе поиска анализировать активность пользователей в социальных сетях и определять, какие страницы являются наиболее релевантными для конкретного запроса. Например, система может анализировать количество лайков и комментариев на странице и использовать их для определения релевантности. Это позволит системе более точно определять релевантность страниц и улучшать качество разметки релевантности."
      ],
      "metadata": {
        "id": "UDmpfY6Sy4GR"
      }
    },
    {
      "cell_type": "markdown",
      "source": [
        "Использование анализа поведения пользователей. Позволяет системе поиска анализировать поведение пользователей на сайте и определять, какие страницы являются наиболее релевантными для конкретного запроса. Например, система может анализировать время, проведенное пользователем на странице, и использовать его для определения релевантности. Это позволит системе более точно определять релевантность страниц и улучшать качество разметки релевантности."
      ],
      "metadata": {
        "id": "SwLjuFxKzDwX"
      }
    },
    {
      "cell_type": "markdown",
      "source": [
        "Использование анализа изображений. Позволяет системе поиска анализировать изображения на страницах и определять, какие страницы являются наиболее релевантными для конкретного запроса. Например, система может анализировать изображения на странице и использовать их для определения релевантности. Это позволит системе более точно определять релевантность страниц и улучшать качество разметки релевантности."
      ],
      "metadata": {
        "id": "yMPaBrHH0iqo"
      }
    },
    {
      "cell_type": "markdown",
      "source": [
        "**Задание №4**"
      ],
      "metadata": {
        "id": "mrEXZ8PX0xom"
      }
    },
    {
      "cell_type": "markdown",
      "source": [
        "**Рассчитать p-value гипотезы \"выдача google по запросу <выберите любой запрос> статистически значимо лучше, чем выдача yandex по этому же запросу\". Оценку релевантности всех страниц выдачи, а также уровень значимости (порог, при котором мы отвергаем гипотезу) провести самостоятельно.**\n",
        "\n"
      ],
      "metadata": {
        "id": "thKudD-Z0zVq"
      }
    },
    {
      "cell_type": "code",
      "source": [
        "import scipy.stats as stats"
      ],
      "metadata": {
        "id": "EJhKUemUy7vD"
      },
      "execution_count": null,
      "outputs": []
    },
    {
      "cell_type": "code",
      "source": [
        "# Оценка релевантности выдачи поисковиков по запросу\n",
        "google_relevance = [3, 4, 2, 5, 4, 3, 2, 5, 3]\n",
        "yandex_relevance = [2, 3, 1, 4, 3, 2, 1, 4, 2]"
      ],
      "metadata": {
        "id": "B_abgIi_4HUm"
      },
      "execution_count": null,
      "outputs": []
    },
    {
      "cell_type": "markdown",
      "source": [
        "Установим уровень значимости 0,05."
      ],
      "metadata": {
        "id": "j9ORPOGL5fPO"
      }
    },
    {
      "cell_type": "code",
      "source": [
        "p = 0.05"
      ],
      "metadata": {
        "id": "UcpR-TfD6k7n"
      },
      "execution_count": null,
      "outputs": []
    },
    {
      "cell_type": "markdown",
      "source": [
        "Проверяем гипотезу"
      ],
      "metadata": {
        "id": "uQ-jHOiV8Nye"
      }
    },
    {
      "cell_type": "code",
      "source": [
        "p_value = stats.mannwhitneyu(google_relevance, yandex_relevance, alternative='greater')[1]\n",
        "p_value"
      ],
      "metadata": {
        "colab": {
          "base_uri": "https://localhost:8080/"
        },
        "id": "ue2ydhLQ4Lh4",
        "outputId": "553cfd19-881c-484f-f76a-db36c35c79cb"
      },
      "execution_count": null,
      "outputs": [
        {
          "output_type": "execute_result",
          "data": {
            "text/plain": [
              "0.0511416764811998"
            ]
          },
          "metadata": {},
          "execution_count": 19
        }
      ]
    },
    {
      "cell_type": "code",
      "source": [
        "if abs(p) > p_value:\n",
        "    print(\"Мы можем отвергнуть нулевую гипотезу!\")\n",
        "else:\n",
        "    print(\"Не удалось отвергнуть нулевую гипотезу\")"
      ],
      "metadata": {
        "colab": {
          "base_uri": "https://localhost:8080/"
        },
        "id": "ydhYrdg74RSU",
        "outputId": "286a7100-4095-4f21-bb81-7df72af6114f"
      },
      "execution_count": null,
      "outputs": [
        {
          "output_type": "stream",
          "name": "stdout",
          "text": [
            "Не удалось отвергнуть нулевую гипотезу\n"
          ]
        }
      ]
    },
    {
      "cell_type": "markdown",
      "source": [
        "Соответственно, выдача google по запросу статистически значимо лучше, чем выдача yandex по этому же запросу."
      ],
      "metadata": {
        "id": "YVRf3Z5H8W8A"
      }
    }
  ]
}